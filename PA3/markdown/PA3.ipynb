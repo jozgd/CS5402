{
 "cells": [
  {
   "cell_type": "markdown",
   "metadata": {},
   "source": [
    "**Name:** Jonathan Ogden\n",
    "\n",
    "**Course:** CS 5402\n",
    "\n",
    "**Assignment:** Programming Assignment 1\n",
    "\n",
    "**Date:** 6/17/2020"
   ]
  },
  {
   "cell_type": "markdown",
   "metadata": {},
   "source": [
    "### Concept Description:\n",
    "Record the concept description here"
   ]
  },
  {
   "cell_type": "markdown",
   "metadata": {},
   "source": [
    "### Data Collection:\n",
    "Record the data collection method here. Detail anything that impacted your data collection"
   ]
  },
  {
   "cell_type": "markdown",
   "metadata": {},
   "source": [
    "### Example Description:\n",
    "Record the description of the examples here, and long wetih a list of attributes, a description of each attribute, and the domain of the attribute. Also include any restrictions or considerations on example selection, or techniques used to improve the number of examples"
   ]
  },
  {
   "cell_type": "markdown",
   "metadata": {},
   "source": [
    "### Data Import and Wrangling:\n",
    "Record anything that was necessary to import the data or transform the data into something you would use for analysis. Have your code block for importing the data here. Multiple blocks may be necessary as you may have to import data from different sources."
   ]
  },
  {
   "cell_type": "markdown",
   "metadata": {},
   "source": [
    "### Exploratory Data Analysis:\n",
    "Record anything that you do to look into that data. This section may include visualizations used to look into the characteristics of the data, such as histograms or bar charts for each attribute. This section may also include any work done to determine relationships between attributes, such as scatter plot matrix. Have your code blocks used for exploratory data analysis. Work here may result in you going back and importing and/or wrangling more data."
   ]
  },
  {
   "cell_type": "markdown",
   "metadata": {},
   "source": [
    "### Mining or Analytics:\n",
    "Record any mining or analytics techniques you perform. This section may include visualizations of your technique to help explain what has been done. This section will most likely have a subsection for each technique used. Include code blocks for each technique."
   ]
  },
  {
   "cell_type": "markdown",
   "metadata": {},
   "source": [
    "### Evaluation:\n",
    "Record the evaluation of your mining or analytics techniques. Include code blocks used to evaluate the models performance."
   ]
  },
  {
   "cell_type": "markdown",
   "metadata": {},
   "source": [
    "### Results:\n",
    "Record the results of your findings. There should be no code block that develops the process further. The only code in this section should be code that is used to display previous findings that is necessary to explain your results."
   ]
  },
  {
   "cell_type": "markdown",
   "metadata": {},
   "source": [
    "### Reference:\n",
    "This section is to contrain links to helpful sources, or citations for papaers that were used in APA format."
   ]
  }
 ],
 "metadata": {
  "kernelspec": {
   "display_name": "Python 3",
   "language": "python",
   "name": "python3"
  },
  "language_info": {
   "codemirror_mode": {
    "name": "ipython",
    "version": 3
   },
   "file_extension": ".py",
   "mimetype": "text/x-python",
   "name": "python",
   "nbconvert_exporter": "python",
   "pygments_lexer": "ipython3",
   "version": "3.6.2"
  }
 },
 "nbformat": 4,
 "nbformat_minor": 4
}
